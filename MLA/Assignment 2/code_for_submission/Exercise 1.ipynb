{
 "cells": [
  {
   "cell_type": "markdown",
   "metadata": {},
   "source": []
  },
  {
   "cell_type": "code",
   "execution_count": 3,
   "metadata": {},
   "outputs": [],
   "source": [
    "import numpy as np\n",
    "import numpy.random as rand\n",
    "import matplotlib.pyplot as plt\n",
    "\n",
    "#p = 0.1\n",
    "sample1 = rand.binomial(n=20,p = 0.1, size=(10**6)) #drawing 10^6 binom(20,1/2) equivalent to drawing 20*10^6 bernoulli\n",
    "sample_mean1 = sample1/20 # calculate mean\n",
    "alpha1= np.arange(0.1,1.05,0.05) # generate alphas\n",
    "compare1 = np.empty(len(alpha1))\n",
    "for i in range(len(alpha1)):\n",
    "    compare1[i] = np.mean(sample_mean1 >= alpha1[i])\n",
    "\n",
    "#p = 0.5\n",
    "sample2 = rand.binomial(n=20,p = 0.5, size=(10**6)) #drawing 10^6 binom(20,1/2) equivalent to drawing 20*10^6 bernoulli\n",
    "sample_mean2 = sample2/20 # calculate mean\n",
    "alpha2= np.arange(0.5,1.05,0.05) # generate alphas\n",
    "compare2 = np.empty(len(alpha2))\n",
    "for i in range(len(alpha2)):\n",
    "    compare2[i] = np.mean(sample_mean2 >= alpha2[i])\n",
    "\n",
    "def markov(alpha, p):\n",
    "    return(p/alpha)\n",
    "\n",
    "def chebyshev(alpha, p):\n",
    "    if alpha <=p:\n",
    "        return(1)\n",
    "    return(np.minimum((p*(1-p))/(20*(alpha-p)**2),1))\n",
    "\n",
    "def hoeffding(alpha, p):\n",
    "    return(np.exp(-40*(alpha-p)**2))\n",
    "\n",
    "markov = np.vectorize(markov)\n",
    "chebyshev = np.vectorize(chebyshev, otypes=[np.float64])\n",
    "hoeffding = np.vectorize(hoeffding)\n",
    "\n",
    "plt.plot(alpha1, compare1, label = \"Empirical\")\n",
    "plt.plot(alpha1, markov(alpha1, 0.1), label = \"Markov\")\n",
    "plt.plot(alpha1, chebyshev(alpha1, 0.1),label = \"Chebyshev\")\n",
    "plt.plot(alpha1, hoeffding(alpha1, 0.1), label =\"Hoeffding\")\n",
    "plt.xlabel(\"Alpha\")\n",
    "plt.ylabel(\"Probability\")\n",
    "plt.xticks(np.arange(0.1,1.05,0.1))\n",
    "plt.title(\"Empirical frequency and bounds as a function of alpha\")\n",
    "plt.legend()\n",
    "plt.savefig(\"plot1.png\")\n",
    "plt.close()\n",
    "\n",
    "plt.plot(alpha2, compare2, label = \"Empirical\")\n",
    "plt.plot(alpha2, markov(alpha2, 0.5), label = \"Markov\")\n",
    "plt.plot(alpha2, chebyshev(alpha2, 0.5),label = \"Chebyshev\")\n",
    "plt.plot(alpha2, hoeffding(alpha2, 0.5), label =\"Hoeffding\")\n",
    "plt.xlabel(\"Alpha\")\n",
    "plt.ylabel(\"Probability\")\n",
    "plt.xticks(np.arange(0.5,1.05,0.1))\n",
    "plt.title(\"Empirical frequency and bounds as a function of alpha\")\n",
    "plt.legend()\n",
    "plt.savefig(\"plot2.png\")\n",
    "plt.close()"
   ]
  },
  {
   "cell_type": "code",
   "execution_count": null,
   "metadata": {},
   "outputs": [],
   "source": []
  }
 ],
 "metadata": {
  "kernelspec": {
   "display_name": "Python 3.9.7 ('base')",
   "language": "python",
   "name": "python3"
  },
  "language_info": {
   "codemirror_mode": {
    "name": "ipython",
    "version": 3
   },
   "file_extension": ".py",
   "mimetype": "text/x-python",
   "name": "python",
   "nbconvert_exporter": "python",
   "pygments_lexer": "ipython3",
   "version": "3.9.13"
  },
  "orig_nbformat": 4,
  "vscode": {
   "interpreter": {
    "hash": "2aaaed62726fa93b23a998d174ead1f45903166052f00f97e926b61978a3bc16"
   }
  }
 },
 "nbformat": 4,
 "nbformat_minor": 2
}
