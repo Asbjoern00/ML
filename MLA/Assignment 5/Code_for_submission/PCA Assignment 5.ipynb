{
 "cells": [
  {
   "cell_type": "markdown",
   "metadata": {},
   "source": [
    "# PCA Home Assignment\n",
    "## Christian Igel, 2021"
   ]
  },
  {
   "cell_type": "code",
   "execution_count": 9,
   "metadata": {},
   "outputs": [],
   "source": [
    "import numpy as np\n",
    "from sklearn.decomposition import PCA\n",
    "from sklearn import datasets\n",
    "\n",
    "import matplotlib.pyplot as plt\n",
    "%matplotlib inline"
   ]
  },
  {
   "cell_type": "markdown",
   "metadata": {},
   "source": [
    "Load handwritten digits data:"
   ]
  },
  {
   "cell_type": "code",
   "execution_count": 10,
   "metadata": {},
   "outputs": [],
   "source": [
    "digits = datasets.load_digits()\n",
    "imshape = digits.images[0].shape  # The 2D image shape\n",
    "X = digits.images.reshape(digits.images.shape[0],-1)  # Image\n"
   ]
  },
  {
   "cell_type": "markdown",
   "metadata": {},
   "source": [
    "Do the PCA:"
   ]
  },
  {
   "cell_type": "code",
   "execution_count": 11,
   "metadata": {},
   "outputs": [],
   "source": [
    "pca = PCA() #Intialize PCA\n",
    "pca.fit(X) #Fit PCA to data\n",
    "explained_variance = pca.explained_variance_ratio_ #Get explained variance ratio"
   ]
  },
  {
   "cell_type": "markdown",
   "metadata": {},
   "source": [
    "Find out if 10 components are enough to explain 80% of the variance:"
   ]
  },
  {
   "cell_type": "code",
   "execution_count": 12,
   "metadata": {},
   "outputs": [
    {
     "data": {
      "text/plain": [
       "False"
      ]
     },
     "execution_count": 12,
     "metadata": {},
     "output_type": "execute_result"
    }
   ],
   "source": [
    "np.sum(explained_variance[0:10]) >= 0.80 #Check if explained variance of first 10 components explain 80% of variance"
   ]
  },
  {
   "cell_type": "markdown",
   "metadata": {},
   "source": [
    "Plot the eigenspectrum:"
   ]
  },
  {
   "cell_type": "code",
   "execution_count": 13,
   "metadata": {},
   "outputs": [],
   "source": [
    "##Explained variance\n",
    "plt.plot(range(len(explained_variance)),np.cumsum(explained_variance))\n",
    "plt.xlabel(\"Number of eigenvectors\")\n",
    "plt.ylabel(\"Explained variance\")\n",
    "plt.title(\"Explained variance as a function of number of eigenvectors\")\n",
    "plt.savefig(\"Explained_variance.png\")\n",
    "plt.close()"
   ]
  },
  {
   "cell_type": "code",
   "execution_count": 17,
   "metadata": {},
   "outputs": [],
   "source": [
    "eigenvalues = pca.singular_values_**2 #calculate eigenvalues\n",
    "\n",
    "plt.plot(range(len(eigenvalues[0:61])), eigenvalues[0:61]/np.sum(eigenvalues))\n",
    "plt.yscale('log')\n",
    "plt.xlabel(\"Eigenvalue number\")\n",
    "plt.ylabel(\"Eigenvalue divided by sum of eigenvalues\")\n",
    "plt.savefig(\"Eignotfull.png\")\n",
    "plt.close()\n",
    "\n",
    "plt.plot(range(len(eigenvalues)), eigenvalues/np.sum(eigenvalues))\n",
    "plt.yscale('log')\n",
    "plt.xlabel(\"Eigenvalue number\")\n",
    "plt.ylabel(\"Eigenvalue divided by sum of eigenvalues\")\n",
    "plt.savefig(\"Eigfull.png\")\n",
    "plt.close()"
   ]
  },
  {
   "cell_type": "markdown",
   "metadata": {},
   "source": [
    "Plot \"eigendigits\":"
   ]
  },
  {
   "cell_type": "code",
   "execution_count": 15,
   "metadata": {},
   "outputs": [],
   "source": [
    "eigendigits_5 = pca.components_[0:5,:] ##First axis is components!\n",
    "for i in range(5):\n",
    "    mat = np.reshape(eigendigits_5[i,:],imshape) # reshape as imshape\n",
    "    plt.imshow(mat, cmap=\"gray\")\n",
    "    plt.axis('off')\n",
    "    plt.savefig(\"component\"+str(i+1)+\".png\", bbox_inches='tight')\n",
    "    plt.close()"
   ]
  }
 ],
 "metadata": {
  "kernelspec": {
   "display_name": "Python 3.9.13 ('base')",
   "language": "python",
   "name": "python3"
  },
  "language_info": {
   "codemirror_mode": {
    "name": "ipython",
    "version": 3
   },
   "file_extension": ".py",
   "mimetype": "text/x-python",
   "name": "python",
   "nbconvert_exporter": "python",
   "pygments_lexer": "ipython3",
   "version": "3.9.13"
  },
  "vscode": {
   "interpreter": {
    "hash": "2aaaed62726fa93b23a998d174ead1f45903166052f00f97e926b61978a3bc16"
   }
  }
 },
 "nbformat": 4,
 "nbformat_minor": 2
}
