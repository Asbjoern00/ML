{
 "cells": [
  {
   "cell_type": "code",
   "execution_count": 1,
   "metadata": {},
   "outputs": [],
   "source": [
    "import numpy as np\n",
    "\n",
    "# Define constant arrays and functions\n",
    "x_1 = np.array([0.1,0.15,0.3,0.6,0.9,0.3,0.35,0.45,0.45,0.6])\n",
    "x_2 = np.array([0.15,0.25,0.7,0.6,0.3,0.1,0.45,0.1,0.5,0.4])\n",
    "\n",
    "y = np.array([-1,-1,-1,-1,-1,1,1,1,1,1])\n",
    "\n",
    "def h_1(x_1,x_2):\n",
    "    return np.sign(x_1-0.25)\n",
    "def h_2(x_1,x_2):\n",
    "    return np.sign(-x_2 + 0.55)\n",
    "def h_3(x_1,x_2):\n",
    "    return np.sign(x_2 - 0.35)\n",
    "\n",
    "def epsilon(w, x_1,x_2,h,y):\n",
    "    return w * (h(x_1,x_2)!=y)\n",
    "\n",
    "def epsilon_b(epsilon):\n",
    "    return np.sum(epsilon)\n",
    "\n",
    "def alpha(epsilon_b):\n",
    "    return 1/2 * np.log((1-epsilon_b)/epsilon_b)\n",
    "\n",
    "def gamma(alpha, y, h, x_1,x_2):\n",
    "    pred= h(x_1,x_2)\n",
    "    return(np.exp(-1*alpha*y*pred))\n",
    "\n",
    "def gamma_w(w,gamma):\n",
    "    return w*gamma\n",
    "\n",
    "def new_weights(gamma_w):\n",
    "    return gamma_w/np.sum(gamma_w)"
   ]
  },
  {
   "cell_type": "code",
   "execution_count": 2,
   "metadata": {},
   "outputs": [],
   "source": [
    "# First boosting round:\n",
    "w_1 = np.tile(0.1,10)\n",
    "pred1 = h_1(x_1,x_2)\n",
    "epsilon_1 = epsilon(w_1,x_1,x_2,h_1,y)\n",
    "eps_sum_1 = epsilon_b(epsilon_1)\n",
    "alpha_1 = alpha(eps_sum_1)\n",
    "gamma_1 = gamma(alpha_1,y,h_1, x_1,x_2)\n",
    "gamma_w_1 = gamma_w(w_1, gamma_1)\n",
    "biggamma_1 = np.sum(gamma_w_1)"
   ]
  },
  {
   "cell_type": "code",
   "execution_count": 15,
   "metadata": {},
   "outputs": [
    {
     "name": "stdout",
     "output_type": "stream",
     "text": [
      "0.9245946589975047\n"
     ]
    }
   ],
   "source": [
    "# Second boosting round\n",
    "w_2 = new_weights(gamma_w_1)\n",
    "pred2 = h_2(x_1,x_2)\n",
    "epsilon_2 = epsilon(w_2,x_1,x_2,h_2,y)\n",
    "eps_sum_2 = epsilon_b(epsilon_2)\n",
    "alpha_2 = alpha(eps_sum_2)\n",
    "gamma_2 = gamma(alpha_2,y,h_2, x_1,x_2)\n",
    "gamma_w_2 = gamma_w(w_2, gamma_2)\n",
    "biggamma_2 = np.sum(gamma_w_2)\n",
    "print(biggamma_2)"
   ]
  },
  {
   "cell_type": "code",
   "execution_count": 19,
   "metadata": {},
   "outputs": [
    {
     "name": "stdout",
     "output_type": "stream",
     "text": [
      "0.951\n"
     ]
    }
   ],
   "source": [
    "# Third boosting round\n",
    "w_3 = new_weights(gamma_w_2)\n",
    "pred3 = h_3(x_1,x_2)\n",
    "epsilon_3 = epsilon(w_3,x_1,x_2,h_3,y)\n",
    "eps_sum_3 = epsilon_b(epsilon_3)\n",
    "alpha_3 = alpha(eps_sum_3)\n",
    "gamma_3 = gamma(alpha_3,y,h_3, x_1,x_2)\n",
    "gamma_w_3 = gamma_w(w_3, gamma_3)\n",
    "biggamma_3 = np.sum(gamma_w_3)\n",
    "print(np.round(biggamma_3, 3))"
   ]
  },
  {
   "cell_type": "code",
   "execution_count": 12,
   "metadata": {},
   "outputs": [
    {
     "data": {
      "text/plain": [
       "array([-1., -1.,  1.,  1.,  1.,  1.,  1.,  1.,  1.,  1.])"
      ]
     },
     "execution_count": 12,
     "metadata": {},
     "output_type": "execute_result"
    }
   ],
   "source": [
    "def final_h(h_1,h_2,h_3,alpha_1,alpha_2,alpha_3,x_1,x_2):\n",
    "    return np.sign(alpha_1*h_1(x_1,x_2) + alpha_2*h_2(x_1,x_2) + alpha_3*h_3(x_1,x_2))\n",
    "final_h(h_1,h_2,h_3,alpha_1,alpha_2,alpha_3,x_1,x_2)"
   ]
  }
 ],
 "metadata": {
  "kernelspec": {
   "display_name": "base",
   "language": "python",
   "name": "python3"
  },
  "language_info": {
   "codemirror_mode": {
    "name": "ipython",
    "version": 3
   },
   "file_extension": ".py",
   "mimetype": "text/x-python",
   "name": "python",
   "nbconvert_exporter": "python",
   "pygments_lexer": "ipython3",
   "version": "3.9.13"
  },
  "orig_nbformat": 4,
  "vscode": {
   "interpreter": {
    "hash": "2aaaed62726fa93b23a998d174ead1f45903166052f00f97e926b61978a3bc16"
   }
  }
 },
 "nbformat": 4,
 "nbformat_minor": 2
}
