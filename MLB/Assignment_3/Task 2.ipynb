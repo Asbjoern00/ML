{
 "cells": [
  {
   "cell_type": "code",
   "execution_count": 55,
   "metadata": {},
   "outputs": [
    {
     "name": "stdout",
     "output_type": "stream",
     "text": [
      "Number of training examples= 150 ,Number of test examples= 164\n"
     ]
    }
   ],
   "source": [
    "import numpy as np\n",
    "y_train = np.loadtxt(\"y_train_binary.csv \", delimiter =\",\")\n",
    "y_test = np.loadtxt(\"y_test_binary.csv \", delimiter =\",\")\n",
    "X_train = np.loadtxt(\"X_train_binary.csv \", delimiter =\",\")\n",
    "X_test = np.loadtxt(\"X_test_binary.csv \", delimiter =\",\")\n",
    "print(\"Number of training examples=\", y_train.size, \",Number of test examples=\",y_test.size)"
   ]
  },
  {
   "cell_type": "code",
   "execution_count": 56,
   "metadata": {},
   "outputs": [
    {
     "name": "stdout",
     "output_type": "stream",
     "text": [
      "(label,frequency): [(-1.0, 0.4533333333333333), (1.0, 0.5466666666666666)]\n"
     ]
    }
   ],
   "source": [
    "# Get frequencise \n",
    "train_count = np.unique(y_train, return_counts=True) # Return counts\n",
    "freq = train_count[1]/np.sum(train_count[1]) # Frequencies\n",
    "print('(label,frequency):', list(zip(train_count[0],freq)))"
   ]
  },
  {
   "cell_type": "code",
   "execution_count": 57,
   "metadata": {},
   "outputs": [],
   "source": [
    "mu = np.mean(X_train, axis=0) # Compute mean of each feature\n",
    "sd = np.std(X_train, axis=0, ddof = 0) # Compute (in-sample) standard deviation of each feature\n",
    "def normalize(X,mean,sd): # Function to normalize array given mean and standard deviation\n",
    "     D = np.diag(1/sd) # diagonalize std deviation vector\n",
    "     return X @ D - mu @ D\n",
    "\n",
    "X_train_norm = normalize(X_train, mu, sd) # Normalized training data \n",
    "X_test_norm = normalize(X_test, mu, sd) # Normalized testing data\n",
    "\n",
    "vars = np.var(X_test_norm, axis=0,ddof=0) # variance of test data\n",
    "means = np.mean(X_test_norm, axis=0) # mean of test data\n",
    "\n",
    "mean_var = np.array([means, vars]).T # Combine to one array\n",
    "np.savetxt(\"mean_var.csv\", mean_var, delimiter=\",\") # Send to csv for later use\n"
   ]
  },
  {
   "cell_type": "code",
   "execution_count": 58,
   "metadata": {},
   "outputs": [
    {
     "name": "stdout",
     "output_type": "stream",
     "text": [
      "Fitting 5 folds for each of 49 candidates, totalling 245 fits\n"
     ]
    },
    {
     "data": {
      "text/html": [
       "<style>#sk-container-id-8 {color: black;background-color: white;}#sk-container-id-8 pre{padding: 0;}#sk-container-id-8 div.sk-toggleable {background-color: white;}#sk-container-id-8 label.sk-toggleable__label {cursor: pointer;display: block;width: 100%;margin-bottom: 0;padding: 0.3em;box-sizing: border-box;text-align: center;}#sk-container-id-8 label.sk-toggleable__label-arrow:before {content: \"▸\";float: left;margin-right: 0.25em;color: #696969;}#sk-container-id-8 label.sk-toggleable__label-arrow:hover:before {color: black;}#sk-container-id-8 div.sk-estimator:hover label.sk-toggleable__label-arrow:before {color: black;}#sk-container-id-8 div.sk-toggleable__content {max-height: 0;max-width: 0;overflow: hidden;text-align: left;background-color: #f0f8ff;}#sk-container-id-8 div.sk-toggleable__content pre {margin: 0.2em;color: black;border-radius: 0.25em;background-color: #f0f8ff;}#sk-container-id-8 input.sk-toggleable__control:checked~div.sk-toggleable__content {max-height: 200px;max-width: 100%;overflow: auto;}#sk-container-id-8 input.sk-toggleable__control:checked~label.sk-toggleable__label-arrow:before {content: \"▾\";}#sk-container-id-8 div.sk-estimator input.sk-toggleable__control:checked~label.sk-toggleable__label {background-color: #d4ebff;}#sk-container-id-8 div.sk-label input.sk-toggleable__control:checked~label.sk-toggleable__label {background-color: #d4ebff;}#sk-container-id-8 input.sk-hidden--visually {border: 0;clip: rect(1px 1px 1px 1px);clip: rect(1px, 1px, 1px, 1px);height: 1px;margin: -1px;overflow: hidden;padding: 0;position: absolute;width: 1px;}#sk-container-id-8 div.sk-estimator {font-family: monospace;background-color: #f0f8ff;border: 1px dotted black;border-radius: 0.25em;box-sizing: border-box;margin-bottom: 0.5em;}#sk-container-id-8 div.sk-estimator:hover {background-color: #d4ebff;}#sk-container-id-8 div.sk-parallel-item::after {content: \"\";width: 100%;border-bottom: 1px solid gray;flex-grow: 1;}#sk-container-id-8 div.sk-label:hover label.sk-toggleable__label {background-color: #d4ebff;}#sk-container-id-8 div.sk-serial::before {content: \"\";position: absolute;border-left: 1px solid gray;box-sizing: border-box;top: 0;bottom: 0;left: 50%;z-index: 0;}#sk-container-id-8 div.sk-serial {display: flex;flex-direction: column;align-items: center;background-color: white;padding-right: 0.2em;padding-left: 0.2em;position: relative;}#sk-container-id-8 div.sk-item {position: relative;z-index: 1;}#sk-container-id-8 div.sk-parallel {display: flex;align-items: stretch;justify-content: center;background-color: white;position: relative;}#sk-container-id-8 div.sk-item::before, #sk-container-id-8 div.sk-parallel-item::before {content: \"\";position: absolute;border-left: 1px solid gray;box-sizing: border-box;top: 0;bottom: 0;left: 50%;z-index: -1;}#sk-container-id-8 div.sk-parallel-item {display: flex;flex-direction: column;z-index: 1;position: relative;background-color: white;}#sk-container-id-8 div.sk-parallel-item:first-child::after {align-self: flex-end;width: 50%;}#sk-container-id-8 div.sk-parallel-item:last-child::after {align-self: flex-start;width: 50%;}#sk-container-id-8 div.sk-parallel-item:only-child::after {width: 0;}#sk-container-id-8 div.sk-dashed-wrapped {border: 1px dashed gray;margin: 0 0.4em 0.5em 0.4em;box-sizing: border-box;padding-bottom: 0.4em;background-color: white;}#sk-container-id-8 div.sk-label label {font-family: monospace;font-weight: bold;display: inline-block;line-height: 1.2em;}#sk-container-id-8 div.sk-label-container {text-align: center;}#sk-container-id-8 div.sk-container {/* jupyter's `normalize.less` sets `[hidden] { display: none; }` but bootstrap.min.css set `[hidden] { display: none !important; }` so we also need the `!important` here to be able to override the default hidden behavior on the sphinx rendered scikit-learn.org. See: https://github.com/scikit-learn/scikit-learn/issues/21755 */display: inline-block !important;position: relative;}#sk-container-id-8 div.sk-text-repr-fallback {display: none;}</style><div id=\"sk-container-id-8\" class=\"sk-top-container\"><div class=\"sk-text-repr-fallback\"><pre>GridSearchCV(estimator=SVC(),\n",
       "             param_grid={&#x27;C&#x27;: array([    0.01,     0.1 ,     1.  ,    10.  ,   100.  ,  1000.  ,\n",
       "       10000.  ]),\n",
       "                         &#x27;gamma&#x27;: array([  0.0001,   0.001 ,   0.01  ,   0.1   ,   1.    ,  10.    ,\n",
       "       100.    ])},\n",
       "             scoring=&#x27;accuracy&#x27;, verbose=1)</pre><b>In a Jupyter environment, please rerun this cell to show the HTML representation or trust the notebook. <br />On GitHub, the HTML representation is unable to render, please try loading this page with nbviewer.org.</b></div><div class=\"sk-container\" hidden><div class=\"sk-item sk-dashed-wrapped\"><div class=\"sk-label-container\"><div class=\"sk-label sk-toggleable\"><input class=\"sk-toggleable__control sk-hidden--visually\" id=\"sk-estimator-id-22\" type=\"checkbox\" ><label for=\"sk-estimator-id-22\" class=\"sk-toggleable__label sk-toggleable__label-arrow\">GridSearchCV</label><div class=\"sk-toggleable__content\"><pre>GridSearchCV(estimator=SVC(),\n",
       "             param_grid={&#x27;C&#x27;: array([    0.01,     0.1 ,     1.  ,    10.  ,   100.  ,  1000.  ,\n",
       "       10000.  ]),\n",
       "                         &#x27;gamma&#x27;: array([  0.0001,   0.001 ,   0.01  ,   0.1   ,   1.    ,  10.    ,\n",
       "       100.    ])},\n",
       "             scoring=&#x27;accuracy&#x27;, verbose=1)</pre></div></div></div><div class=\"sk-parallel\"><div class=\"sk-parallel-item\"><div class=\"sk-item\"><div class=\"sk-label-container\"><div class=\"sk-label sk-toggleable\"><input class=\"sk-toggleable__control sk-hidden--visually\" id=\"sk-estimator-id-23\" type=\"checkbox\" ><label for=\"sk-estimator-id-23\" class=\"sk-toggleable__label sk-toggleable__label-arrow\">estimator: SVC</label><div class=\"sk-toggleable__content\"><pre>SVC()</pre></div></div></div><div class=\"sk-serial\"><div class=\"sk-item\"><div class=\"sk-estimator sk-toggleable\"><input class=\"sk-toggleable__control sk-hidden--visually\" id=\"sk-estimator-id-24\" type=\"checkbox\" ><label for=\"sk-estimator-id-24\" class=\"sk-toggleable__label sk-toggleable__label-arrow\">SVC</label><div class=\"sk-toggleable__content\"><pre>SVC()</pre></div></div></div></div></div></div></div></div></div></div>"
      ],
      "text/plain": [
       "GridSearchCV(estimator=SVC(),\n",
       "             param_grid={'C': array([    0.01,     0.1 ,     1.  ,    10.  ,   100.  ,  1000.  ,\n",
       "       10000.  ]),\n",
       "                         'gamma': array([  0.0001,   0.001 ,   0.01  ,   0.1   ,   1.    ,  10.    ,\n",
       "       100.    ])},\n",
       "             scoring='accuracy', verbose=1)"
      ]
     },
     "execution_count": 58,
     "metadata": {},
     "output_type": "execute_result"
    }
   ],
   "source": [
    "from sklearn.svm import SVC\n",
    "from sklearn.model_selection import GridSearchCV\n",
    "gauss_svm = SVC(kernel=\"rbf\") # Initialize gaussian SVM \n",
    "C = np.logspace(-2, 4, 7) # Values of C to try in CV\n",
    "gamma = np.logspace(-4, 2,7) # Values of gamma to try in CV\n",
    "paramgrid = {\"C\":C,\"gamma\":gamma} # Setup parametergrid for cross-validation\n",
    "gaussian_cv = GridSearchCV(gauss_svm, param_grid=paramgrid, scoring=\"accuracy\", verbose = 1) # Init gridsearch using parametergrid\n",
    "gaussian_cv.fit(X_train, y_train) # Fit SVM"
   ]
  },
  {
   "cell_type": "code",
   "execution_count": 59,
   "metadata": {},
   "outputs": [
    {
     "name": "stdout",
     "output_type": "stream",
     "text": [
      "Best parameters: SVC(C=1000.0, gamma=0.0001)\n",
      "Training loss: 0.013333333333333308\n",
      "Test loss: 0.33536585365853655\n"
     ]
    }
   ],
   "source": [
    "print(\"Best parameters:\", gaussian_cv.best_estimator_) # Print best estimator\n",
    "print(\"Training loss:\" ,1-gaussian_cv.score(X_train, y_train)) # Best Loss\n",
    "print(\"Test loss:\", 1-gaussian_cv.score(X_test, y_test)) # Test loss"
   ]
  },
  {
   "cell_type": "code",
   "execution_count": 60,
   "metadata": {},
   "outputs": [],
   "source": [
    "def count_support_vectors(C, X, y, gamma):\n",
    "    svm = SVC(C=C,kernel=\"rbf\", gamma=gamma) # Initialize SVM\n",
    "    svm.fit(X,y) # Fit svm\n",
    "    alphas = svm.dual_coef_ # Get (signed) alphas\n",
    "    bounded = np.sum(abs(alphas)>=C) #Check whether support vector is bounded\n",
    "    free = alphas.size-bounded #Rest is free\n",
    "    return np.reshape(np.array([C, bounded, free]),(1,3)) # return array containing C, #bounded support vectors and #free support vectors\n",
    "\n",
    "Cs = np.logspace(-3,3,7) # C's to count bounded/free SV's for\n",
    "\n",
    "arr = np.empty((1,3)) # Setup array to append to\n",
    "for C in Cs:\n",
    "    arr = np.append(arr,count_support_vectors(C, X_train,y_train, 0.0001), axis = 0) # append to array\n",
    "arr = np.delete(arr, (0), axis = 0) # delete array of zeros\n",
    "arr = np.round(arr, 3)\n",
    "np.savetxt(\"support_vectors.csv\", arr, delimiter=\",\") # Send to csv for later use\n"
   ]
  }
 ],
 "metadata": {
  "kernelspec": {
   "display_name": "base",
   "language": "python",
   "name": "python3"
  },
  "language_info": {
   "codemirror_mode": {
    "name": "ipython",
    "version": 3
   },
   "file_extension": ".py",
   "mimetype": "text/x-python",
   "name": "python",
   "nbconvert_exporter": "python",
   "pygments_lexer": "ipython3",
   "version": "3.9.13 (main, Aug 25 2022, 23:51:50) [MSC v.1916 64 bit (AMD64)]"
  },
  "orig_nbformat": 4,
  "vscode": {
   "interpreter": {
    "hash": "2aaaed62726fa93b23a998d174ead1f45903166052f00f97e926b61978a3bc16"
   }
  }
 },
 "nbformat": 4,
 "nbformat_minor": 2
}
