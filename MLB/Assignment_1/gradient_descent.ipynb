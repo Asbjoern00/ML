{
 "cells": [
  {
   "cell_type": "code",
   "execution_count": 3,
   "metadata": {},
   "outputs": [],
   "source": [
    "import numpy as np\n",
    "\n",
    "def gradient_descent(func, gradient, init, tolerance, stepsize):\n",
    "    ls = init # initialise list\n",
    "    t = 1 # Set initial t \n",
    "    if t == 1: #Do step if t = 1\n",
    "        x_tp1 = np.array([ls[0]-stepsize(t)*gradient(ls[0])]) # calculate x_{t+1}\n",
    "        ls = np.append(ls, x_tp1, 0) # add to list of x's\n",
    "        diff = np.linalg.norm(ls[t] - ls[t-1]) # Calculate distance between x_{t+1} and x_t\n",
    "        t = t + 1 # Add to t\n",
    "    while(diff > tolerance): # loop while distance is larger than tolerance\n",
    "        x_tp1 = np.array([ls[t-1]-stepsize(t)*gradient(ls[t-1])]) # same system as above\n",
    "        ls = np.append(ls, x_tp1,0)\n",
    "        diff = np.linalg.norm(ls[t] - ls[t-1])\n",
    "        t = t + 1\n",
    "    return(ls)\n",
    "\n",
    "f = lambda x, gamma: (1+x[0])**2 + gamma*x[1]**2 # Define f for (a)\n",
    "gradf = lambda x,gamma: np.array([2*(1+x[0]), 2*gamma*x[1]]) # Define gradient for (a)\n"
   ]
  },
  {
   "cell_type": "code",
   "execution_count": 4,
   "metadata": {},
   "outputs": [],
   "source": [
    "f2 = lambda x : f(x,2) # gamma = 2\n",
    "f2grad = lambda x : gradf(x,2) # gradient when gamma = 2\n",
    "init = np.array([[-10,10]]) # Initialisation\n",
    "tol = 0.00000001 # tolerance\n",
    "stepsize = lambda t : 1/(1+t) # stepsize\n",
    "f10 = lambda x : f(x,10) # gamma = 10\n",
    "f10grad = lambda x : gradf(x,10) # gradient when gamma = 10\n",
    "\n",
    "xf2 = gradient_descent(f2, f2grad, init, tol, stepsize) # compute x's for gradient descent gamma = 2\n",
    "xf10 = gradient_descent(f10, f10grad, init, tol, stepsize) # compute x's for gradient descent gamma = 10\n",
    "\n",
    "\n",
    "init = np.array([[0,0]]) # Initialisation for exp\n",
    "\n",
    "def fexp(x):\n",
    "    return(np.exp(x[0] + 4*x[1]-0.3) + np.exp(x[0] - 4*x[1]-0.3) + np.exp(-x[0]-0.3)) # Define f for (b)\n",
    "\n",
    "def fexpgrad(x):\n",
    "    return(np.array([np.exp(x[0] + 4*x[1]-0.3) + np.exp(x[0] - 4*x[1]-0.3) - np.exp(-x[0]-0.3),\n",
    "    4*np.exp(x[0] + 4*x[1]-0.3) -4*np.exp(x[0] - 4*x[1]-0.3)])) # gradient for (b)\n",
    "\n",
    "xfexp = gradient_descent(fexp, fexpgrad, init, tol, stepsize) # compute x's for (b)"
   ]
  },
  {
   "cell_type": "code",
   "execution_count": 5,
   "metadata": {},
   "outputs": [],
   "source": [
    "errorexp_func = np.apply_along_axis(fexp, 1, xfexp)-fexp(np.array([-1/2*np.log(2),0])) # function diffs for exp\n",
    "errorf2_func = np.apply_along_axis(f2, 1, xf2)-0 # function values for (a) with gamma = 2\n",
    "errorf10_func = np.apply_along_axis(f10, 1, xf10)-0 # function values for (a) with gamma = 10\n",
    "errorexp = np.apply_along_axis(np.linalg.norm, 1, (xfexp - np.array([-1/2*np.log(2),0]))) # x errors exp\n",
    "errorf2 = np.apply_along_axis(np.linalg.norm, 1, (xf2 - np.array([-1,0]))) # x errors gamma = 2\n",
    "errorf10 = np.apply_along_axis(np.linalg.norm, 1, (xf10 - np.array([-1,0]))) # x errors gamma = 10"
   ]
  },
  {
   "cell_type": "code",
   "execution_count": 7,
   "metadata": {},
   "outputs": [],
   "source": [
    "import matplotlib.pyplot as plt\n",
    "def make_plot(array, filename, logscale):\n",
    "    plt.plot(np.arange(len(array)), array)\n",
    "    plt.xlabel(\"Iteration number\")\n",
    "    plt.ylabel(\"Error\")\n",
    "    if logscale == True:\n",
    "        plt.yscale(\"log\")\n",
    "    plt.savefig(filename)\n",
    "    plt.close()\n",
    "make_plot(errorexp, \"errorexp.png\", logscale=True)\n",
    "make_plot(errorexp_func, \"errorexp_func.png\", logscale=True)\n",
    "make_plot(errorf2, \"errorf2.png\", False)\n",
    "make_plot(errorf2_func, \"errorf2_func.png\", False)\n",
    "make_plot(errorf10, \"errorf10.png\", False)\n",
    "make_plot(errorf10_func, \"errorf10_func.png\", False)\n"
   ]
  }
 ],
 "metadata": {
  "kernelspec": {
   "display_name": "Python 3.9.13 ('base')",
   "language": "python",
   "name": "python3"
  },
  "language_info": {
   "codemirror_mode": {
    "name": "ipython",
    "version": 3
   },
   "file_extension": ".py",
   "mimetype": "text/x-python",
   "name": "python",
   "nbconvert_exporter": "python",
   "pygments_lexer": "ipython3",
   "version": "3.9.13"
  },
  "orig_nbformat": 4,
  "vscode": {
   "interpreter": {
    "hash": "2aaaed62726fa93b23a998d174ead1f45903166052f00f97e926b61978a3bc16"
   }
  }
 },
 "nbformat": 4,
 "nbformat_minor": 2
}
