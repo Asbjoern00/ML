{
 "cells": [
  {
   "cell_type": "markdown",
   "metadata": {},
   "source": [
    "# Support Vector Machines 2020, 2022\n",
    "### Oswin Krause, Christian Igel\n",
    "\n",
    "Some general stuff first:"
   ]
  },
  {
   "cell_type": "code",
   "execution_count": 3,
   "metadata": {
    "scrolled": true
   },
   "outputs": [],
   "source": [
    "%matplotlib inline\n",
    "import numpy as np\n",
    "import math\n",
    "\n",
    "from sklearn import svm\n",
    "from sklearn.datasets import make_classification, make_moons, make_circles\n",
    "import sklearn.metrics.pairwise as kernels  \n",
    "\n",
    "from matplotlib.collections import LineCollection\n",
    "import matplotlib.transforms as mtransforms\n",
    "\n",
    "import ipywidgets as widgets\n",
    "\n",
    "import matplotlib as mpl\n",
    "import matplotlib.pyplot as plt\n",
    "# Default figure size in inches\n",
    "plt.rcParams['figure.figsize'] = (14.0, 10.0)"
   ]
  },
  {
   "cell_type": "markdown",
   "metadata": {},
   "source": [
    "Definition of interactive SVMs in for two- and one-dimensioanl inputs: "
   ]
  },
  {
   "cell_type": "code",
   "execution_count": 4,
   "metadata": {
    "scrolled": true
   },
   "outputs": [],
   "source": [
    "def plot_interactive_SVM(X, y, res=None):\n",
    "    \"\"\"\n",
    "    Create an interactive SVM plot. Set 'res' to a low value for a finer\n",
    "    grid (i.e. higher resolution of the background).\n",
    "    \"\"\"\n",
    "    \n",
    "    xl, xh = np.floor(X[:,0].min() - 0.1), np.ceil(X[:,0].max() + 0.1)\n",
    "    yl, yh = np.floor(X[:,1].min() - 0.1), np.ceil(X[:,1].max() + 0.1)\n",
    "\n",
    "    class_colours = ['b' if i==0 else 'r' for i in y]\n",
    "    \n",
    "    if res is None:\n",
    "        res = (xh-xl)/300\n",
    "    \n",
    "    # Create grid to calculate the decision boundary on:\n",
    "    xx, yy = np.meshgrid(np.arange(xl, xh, res),\n",
    "                         np.arange(yl, yh, res))\n",
    "\n",
    "    \n",
    "    def f(C, gamma, degree, kernel):    \n",
    "        def expKernel(X,Y):\n",
    "            K = np.dot(X, Y.T)\n",
    "            return np.exp(10**gamma * K)\n",
    "        \n",
    "        if kernel== \"exponential\":\n",
    "            kernel = expKernel\n",
    "        \n",
    "        clf = svm.SVC(C=10**C, gamma=10**gamma, kernel=kernel, degree=degree, coef0=1.0, shrinking=False)\n",
    "        clf.fit(X, y)\n",
    "\n",
    "        Z = clf.decision_function(np.c_[xx.ravel(), yy.ravel()])\n",
    "        Z = Z.reshape(xx.shape)\n",
    "                 \n",
    "        plt.figure(42)\n",
    "        ax = plt.gca()\n",
    "        \n",
    "        # Plot data\n",
    "        ax.scatter(X[:,0], X[:,1], s=45, c=class_colours,\n",
    "                   edgecolor=mpl.cm.gray(.95), lw=0.5, zorder=100)\n",
    "\n",
    "        # Plot image\n",
    "        cax = ax.matshow(Z, cmap=mpl.cm.coolwarm, origin=\"lower\", vmin=-1, vmax=1, \n",
    "                         extent=[xl, xh, yl, yh], aspect=\"auto\", alpha=.4)\n",
    "        plt.colorbar(cax)\n",
    "        \n",
    "        ax.contour(xx, yy, Z, levels=[-1,0,+1], colors=[mpl.cm.gray(.45), mpl.cm.gray(.24), mpl.cm.gray(.45)], \n",
    "                   linestyles=[\"dashed\",\"solid\",\"dashed\"], linewidths=2)\n",
    "\n",
    "        ax.xaxis.set_ticks_position('bottom')\n",
    "        ax.grid(False)\n",
    "\n",
    "        plt.xlim(xl, xh)\n",
    "        plt.ylim(yl, yh)\n",
    "        plt.show()\n",
    "\n",
    "  \n",
    "    _ = widgets.interact(f, \n",
    "                        kernel=widgets.RadioButtons(options=(\"linear\", \"poly\", \"rbf\", \"exponential\")),\n",
    "                        C=widgets.IntSlider(min=-5, max=10,\n",
    "                                            step=1, value=0, description='log $C$', continuous_update=False),\n",
    "                        gamma=widgets.IntSlider(min=-5, max=5,\n",
    "                                                step=1, value=0, description='log $\\gamma$', continuous_update=False),\n",
    "                        degree=widgets.IntSlider(min=1, max=10,\n",
    "                                                step=1, value=3, continuous_update=False), continuous_update=False)\n",
    "    \n",
    "   "
   ]
  },
  {
   "cell_type": "code",
   "execution_count": 5,
   "metadata": {
    "scrolled": true
   },
   "outputs": [],
   "source": [
    "def plot_interactive_SVM1d(X, y, res=None):\n",
    "    \"\"\"\n",
    "    Create an interactive SVM plot. Set 'res' to a low value for a finer\n",
    "    grid (i.e., higher resolution of the background).\n",
    "    \"\"\"\n",
    "    xl, xh = X[:,0].min() - 0.1, X[:,0].max() + 0.1\n",
    "    \n",
    "    if res is None:\n",
    "        res = (xh-xl)/600\n",
    "    \n",
    "    # Create x-values to calculate the decision boundary on\n",
    "    x_grid = np.arange(xl, xh, res)\n",
    "    \n",
    "    def f(log10_C, log10_gamma, degree, kernel):       \n",
    "        #\n",
    "        # Train SVM\n",
    "        #\n",
    "        clf = svm.SVC(C=10**log10_C, gamma=10**log10_gamma, kernel=kernel, degree=degree, coef0=1.0, shrinking=False)\n",
    "        clf.fit(X, y)\n",
    "        \n",
    "        #\n",
    "        # Set up plot\n",
    "        #\n",
    "        plt.figure(42)\n",
    "        ax = plt.gca()\n",
    "        ax.xaxis.set_ticks_position('bottom')\n",
    "        ax.grid(False)\n",
    "        plt.xlim(xl, xh)\n",
    "        plt.xlabel(\"scalar input\")\n",
    "        plt.ylabel(\"decision function\")\n",
    "\n",
    "        # Use data coordinates for the x-axis and the axes coordinates for the y-axis'\n",
    "        # Thus, y-ccordinates between 0 and 1 are from bottom top top\n",
    "        trans = mtransforms.blended_transform_factory(ax.transData, ax.transAxes)\n",
    "\n",
    "        #\n",
    "        # Plot data\n",
    "        #\n",
    "        X_p=X[y==1]  # Positive points\n",
    "        X_n=X[y==0]  # Negative points\n",
    "\n",
    "        plt.plot(X_p, np.zeros(len(X_p)), '.', X_n, np.zeros(len(X_n)), '.', markersize=30)  # Plot points\n",
    "       \n",
    "        Z = clf.decision_function(x_grid.reshape(-1,1))  # Evaluate SVM decision functionm\n",
    "        plt.plot(x_grid, Z, linewidth=4)  # Plot decision function\n",
    "\n",
    "        #\n",
    "        # Plot zero line and lines at 1 and -1\n",
    "        #\n",
    "        ax.axhline(1, lw=2, alpha=0.5, c=mpl.cm.gray(.45), linestyle=\"dashed\")\n",
    "        ax.axhline(-1, lw=2, alpha=0.5, c=mpl.cm.gray(.45), linestyle=\"dashed\")\n",
    "        ax.axhline(0, lw=2, alpha=0.5, c=mpl.cm.gray(.45))\n",
    "        \n",
    "        #\n",
    "        # Shade positively and negativly classified regions\n",
    "        #         \n",
    "        xra = np.c_[x_grid[:-1], np.diff(x_grid)]\n",
    "        ax.broken_barh(xra[Z[:-1] < 0,:], (0,1), facecolors='darkorange', alpha=0.5, transform=trans)\n",
    "        ax.broken_barh(xra[Z[:-1] >= 0,:], (0,1), facecolors='cornflowerblue', alpha=0.5, transform=trans)  \n",
    "   \n",
    "        #\n",
    "        # Plot individual kernel contributions\n",
    "        #\n",
    "        support_vector_indices = clf.support_  # Indices of support vectors\n",
    "        alphas = clf.dual_coef_  # Coefficients (signed) of support vectors\n",
    "        svs = X[support_vector_indices]  # Support vectors\n",
    "        svs_alphas = np.column_stack((svs, alphas.reshape(-1,1)))  # Link support vectors and coefficients\n",
    "        \n",
    "        if(kernel=='rbf'):\n",
    "            lines = [np.column_stack((x_grid,\n",
    "                                      a*kernels.rbf_kernel(x_grid.reshape(-1,1), [[sv]], \n",
    "                                                           gamma=10**log10_gamma))) \n",
    "                     for sv, a in svs_alphas]\n",
    "        if(kernel=='poly'):\n",
    "            lines = [np.column_stack((x_grid,\n",
    "                                      a*kernels.polynomial_kernel(x_grid.reshape(-1,1), [[sv]], \n",
    "                                                                  degree=degree, coef0=1.0, gamma=10**log10_gamma))) \n",
    "                     for sv, a in svs_alphas]\n",
    "        if(kernel=='linear'):\n",
    "            lines = [np.column_stack((x_grid,\n",
    "                                      a*kernels.linear_kernel(x_grid.reshape(-1,1), [[sv]]))) \n",
    "                     for sv, a in svs_alphas]\n",
    "        line_collection = LineCollection(lines, linestyle='dashed', color=mpl.cm.gray(.65))\n",
    "        ax.add_collection(line_collection)\n",
    "                 \n",
    "        #\n",
    "        # Show plot\n",
    "        #\n",
    "        plt.show()\n",
    "        print(\"b:\", *clf.intercept_)\n",
    "        print(\"SVs:\", support_vector_indices)\n",
    "        print(\"coeff.:\", clf.dual_coef_)\n",
    "        print(\"[SV, coeff.]:\",svs_alphas)\n",
    "\n",
    "    _ = widgets.interact(f, \n",
    "                        kernel=widgets.RadioButtons(options=(\"linear\", \"poly\", \"rbf\")),\n",
    "                        log10_C=widgets.IntSlider(min=-5, max=10, step=1, value=0, description='$\\log_{10} C$'),\n",
    "                        log10_gamma=widgets.IntSlider(min=-5, max=5,\n",
    "                                                step=1, value=2, description='$\\log_{10} \\gamma$'),\n",
    "                        degree=widgets.IntSlider(min=1, max=10,\n",
    "                                                step=1, value=3))"
   ]
  },
  {
   "cell_type": "markdown",
   "metadata": {},
   "source": [
    "## Kernels\n",
    "\n",
    "Kernels correspond to an inner-product in feature space, $k(x,z)=\\langle \\phi(x), \\phi(z) \\rangle$. We consider models, kernel expansions, of the form $f(x)=\\sum_{i=1}^\\ell \\alpha_i k(x^{(i)},x)$.\n",
    "\n",
    "First, we will visualize models for different kernels in 1D.\n",
    "\n",
    "**Exercise:** Play around with some kernels and visualize the resulting functions. Get a feeling for what the hyperparameters of the kernels are doing."
   ]
  },
  {
   "cell_type": "code",
   "execution_count": 6,
   "metadata": {
    "scrolled": false
   },
   "outputs": [],
   "source": [
    "gamma_par = 1.5\n",
    "degree_par = 3.0\n",
    "offset_par=0.1\n",
    "\n",
    "# Standard kernels\n",
    "def gaussian_kernel(x,z): # hyperparameter gamma\n",
    "    return math.exp(-gamma_par*(x-z)**2)\n",
    "def laplace_kernel(x,z): # hyperparameter gamma\n",
    "    return math.exp(-gamma_par*abs(x-z))\n",
    "def polynomial_kernel(x,z): # hyperparameters degree and offset\n",
    "    return (x*z+offset_par)**degree_par\n",
    "def exponential_kernel(x,z): # hyperparameter gamma\n",
    "    return exp(gamma_par*x*z)\n",
    "def sinc_kernel(x,z): # hyperparameter gamma\n",
    "    return sin(gamma_par**2 *(x-z))/(gamma_par**2 *(x-z))\n",
    "# Other kernels and kernel combinations\n",
    "# There are many more ways to create and combine kernels\n",
    "# We can always normalize a kernel so that k(x,x)=1\n",
    "def normalized_polynomial_kernel(x,z): # Note: offset should be > 0\n",
    "    return polynomial_kernel(x,z) / math.sqrt(polynomial_kernel(x,x)*polynomial_kernel(z,z))\n",
    "# We can also multiply kernels\n",
    "def multiplied_kernel(x,z):\n",
    "    return sinc_kernel(x,z) * polynomial_kernel(x,z)\n",
    "# Adding kernels is also fine\n",
    "def added_kernel(x,z):\n",
    "    return laplace_kernel(x,z) + gaussian_kernel(x,z)\n",
    "# Given a kernel k(x,z) and a function g, than scaling the kernel by g,\n",
    "# g(k(x,z)) is a kernel if g and all its derivatives are >=0  (Taylor expansion has only positive coefficients)\n",
    "# An example is g=exp\n",
    "def scaled_kernel(x,z):\n",
    "    return math.exp(laplace_kernel(x,z))"
   ]
  },
  {
   "cell_type": "code",
   "execution_count": 7,
   "metadata": {
    "scrolled": false
   },
   "outputs": [
    {
     "data": {
      "image/png": "[encoded data removed]",
      "text/plain": [
       "<Figure size 1400x1000 with 1 Axes>"
      ]
     },
     "metadata": {},
     "output_type": "display_data"
    }
   ],
   "source": [
    "# Function to visualize a kernel k, choose some of the above\n",
    "def visualize_kernel(k, alpha0, alpha1, alpha2, maxPlot):\n",
    "    X = np.arange(-maxPlot, maxPlot, 0.01)\n",
    "    xbase=[-1,0.0,1] # Feel free to change the basis points as well\n",
    "    f = lambda x: alpha0*k(xbase[0],x)+ alpha1*k(xbase[1],x) + alpha2*k(xbase[2],x)\n",
    "    y0=[alpha0*k(xbase[0],x) for x in X]\n",
    "    y1=[alpha1*k(xbase[1],x) for x in X]\n",
    "    y2=[alpha2*k(xbase[2],x) for x in X]\n",
    "    y=[f(x) for x in X]\n",
    "    plt.figure(42)\n",
    "    plt.plot(X, y0, X, y1, X, y2, linestyle=\"dashed\")\n",
    "    plt.plot(X,y, label='f(x)', lw=3)\n",
    "    plt.legend()\n",
    "    plt.show()\n",
    "    \n",
    "# Try to choose different kernel functions from the set above.\n",
    "# Use the maxPlot setting to narrow down the plotting area for very fast growing kernels.\n",
    "# visualize_kernel(multiplied_kernel, 1,1,1, maxPlot=3)\n",
    "visualize_kernel(gaussian_kernel, 1, -2.5, .3, maxPlot=3)"
   ]
  },
  {
   "cell_type": "markdown",
   "metadata": {},
   "source": [
    "## SVM in 1D\n",
    "\n",
    "Now, let's train an SVM and see how changing the kernel and the complexity parameter changes the function. We generate a simple dataset by taking samples from two gaussian distributions - one for each class. Afterwards, we want an SVM to learn the classes. If the response of the final model is bigger than 0, we predict class 1, otherwise we predict class -1. \n",
    "\n",
    "We consider models of the form $f(x)=\\sum_{i=1}^\\ell \\alpha_i k(x^{(i)},x) + b$, that is, we add an offset/bias parameter.\n",
    "\n",
    "The background colors indicate where the scalar input is assigned to class 1 and -1, respectively.\n",
    "The dashed lines plot $\\alpha_i k(x^{(i)},x)$ for all training points $x^{(i)}$. Remember to also consider the offset parameter $b$, which is printed below the figure, when interpreting the plot.\n",
    "\n",
    "(Be a bit careful with large values of C, the solver used here can take a long time to converge.)\n",
    "\n",
    "**Exercise:** Can you see when a correctly classified point violates the margin? "
   ]
  },
  {
   "cell_type": "code",
   "execution_count": 9,
   "metadata": {
    "scrolled": false
   },
   "outputs": [
    {
     "data": {
      "application/vnd.jupyter.widget-view+json": {
       "model_id": "6622343055ae4f0fb377dea3188dd0f3",
       "version_major": 2,
       "version_minor": 0
      },
      "text/plain": [
       "interactive(children=(IntSlider(value=0, description='$\\\\log_{10} C$', max=10, min=-5), IntSlider(value=2, des…"
      ]
     },
     "metadata": {},
     "output_type": "display_data"
    }
   ],
   "source": [
    "X1, y1 = make_classification(n_samples=10, n_features=1, n_informative=1, n_redundant=0, n_clusters_per_class=1, class_sep=0.5, random_state=1)\n",
    "plot_interactive_SVM1d(X1, y1)"
   ]
  },
  {
   "cell_type": "markdown",
   "metadata": {},
   "source": [
    "## SVM in 2D\n",
    "\n",
    "Next, we move from simple 1D problems to 2D problems. The sliders below have the same effect on the SVM as above, however, we are now in 2D which requires a different way to visualize the function. The decision boundary is the black line, the grey dashed lines indicate the margins. Function values are shown color coded, truncated at 1 and -1. Thus, color can be interpreted as class-likelihood. \n",
    "\n",
    "**Exercise:** Play around with the models and try to get a feeling for how the model behaves. Ask yourself: Are the values of C and the other parameters independent? Does it make sense to compare the C values of SVMs with different kernels? Or keep a value of C and change the kernels?\n",
    "\n",
    "(Be a bit careful with large values of C, the solver used here can take a long time to converge.)"
   ]
  },
  {
   "cell_type": "code",
   "execution_count": 8,
   "metadata": {
    "scrolled": false
   },
   "outputs": [
    {
     "data": {
      "application/vnd.jupyter.widget-view+json": {
       "model_id": "152970254cec49c597f3dc7bb2b913d5",
       "version_major": 2,
       "version_minor": 0
      },
      "text/plain": [
       "interactive(children=(IntSlider(value=0, continuous_update=False, description='log $C$', max=10, min=-5), IntS…"
      ]
     },
     "metadata": {},
     "output_type": "display_data"
    }
   ],
   "source": [
    "X, y = make_moons(n_samples=100, noise=.2, random_state=1)\n",
    "plot_interactive_SVM(X, y)"
   ]
  },
  {
   "cell_type": "code",
   "execution_count": 14,
   "metadata": {
    "scrolled": false
   },
   "outputs": [
    {
     "data": {
      "application/vnd.jupyter.widget-view+json": {
       "model_id": "e3fe576594334611a7d9ae248c0b1021",
       "version_major": 2,
       "version_minor": 0
      },
      "text/plain": [
       "interactive(children=(IntSlider(value=0, continuous_update=False, description='log $C$', max=10, min=-5), IntS…"
      ]
     },
     "metadata": {},
     "output_type": "display_data"
    }
   ],
   "source": [
    "Xc, yc = make_circles(n_samples=50, noise=.2, factor=0.5, random_state=1)\n",
    "plot_interactive_SVM(Xc, yc)"
   ]
  },
  {
   "cell_type": "markdown",
   "metadata": {},
   "source": [
    "## Exercise\n",
    "\n",
    "We want to solve a binary classification task. The right way to do it with an SVM is to create a training-test split and then perform cross-validation on the training split to find the right hyper-parameters (C and parameters of the kernel).\n",
    "\n",
    "For this task we choose a Gaussian kernel and SVM to learn the breast-cancer dataset. Try to implement the program on your own with the help of the links provided to the documentation.\n",
    "\n",
    "Cross-validation is a technique where the training set is split in k parts of equal size. After splitting, k models with the same setting of the hyper-parameters are trained. For each of the models, one part of the dataset is removed (thus only k-1 parts are used for actual training) and the removed part is used as a validation set. The average over the errors on all validation sets is then used to select the best setting for the hyperparameters. This average is called the \"cross-validation error\". The best hyperparameters found in the cross-validation procedure are then used to train the SVM on the full training data set.\n",
    "\n",
    "We want to perform cross-validation on an SVM with Gaussian kernel, therefore we have two parameters to tune: $C$ and $\\gamma$. We consider $C=0.01,0.1,1,10,1000$ and $\\gamma=0.1,1,10$ and search in a grid of all those combinations. For each combination the cross-valdiation error is computed.\n",
    "\n",
    "There are two ways to compute this with sklearn: write your own for-loops over the grid and compute the cross-validation error or use the GridSearchCV object. In this assignment it would be good to implement it both ways. First implement it yourself using for-loops and the KFold class and afterwards use the GridSearchCV implementation in sklearn.\n",
    "\n",
    "Here a few guides to structure your work:\n",
    "* Step 1: Load the data and perform training-test split\n",
    "* Important optional step: normalize your data to zero-mean unit variance! (se the StandardScaler API for training and test) (Q: Why is this a good idea for a Gaussian kernel?)\n",
    "* Step 2: Setup the search grid\n",
    "* Step 3: Loop over the grid and Train an SVM for each point in the grid\n",
    "* Intermediate step: calculate test error when training using the complete training set\n",
    "* Step 4: Implement cross-validation for each point and compute the error on the validation set\n",
    "* Step 5: Pick the hyper-parameter with the best cross-validation error\n",
    "* Step 6: Train the SVM with this hyper-parameter on the full training set\n",
    "* Step 7: Compute the test error on the final model\n",
    "\n",
    "\n",
    "The documentation can be found here:\n",
    "\n",
    "Scaling of dataset: http://scikit-learn.org/stable/modules/preprocessing.html\n",
    "\n",
    "SVM for classification: http://scikit-learn.org/stable/modules/generated/sklearn.svm.SVC.html#sklearn.svm.SVC\n",
    "\n",
    "Create the cross-validation subsets: http://scikit-learn.org/stable/modules/generated/sklearn.model_selection.KFold.html\n",
    "\n",
    "Grid-Search: http://scikit-learn.org/stable/modules/generated/sklearn.model_selection.GridSearchCV.html#sklearn.model_selection.GridSearchCV\n",
    "\n",
    "Compute validation and test error: http://scikit-learn.org/stable/modules/generated/sklearn.metrics.accuracy_score.html\n",
    "\n"
   ]
  },
  {
   "cell_type": "code",
   "execution_count": 1,
   "metadata": {
    "scrolled": false
   },
   "outputs": [
    {
     "name": "stderr",
     "output_type": "stream",
     "text": [
      "c:\\Users\\asr\\Anaconda3\\lib\\site-packages\\scipy\\__init__.py:146: UserWarning: A NumPy version >=1.16.5 and <1.23.0 is required for this version of SciPy (detected version 1.23.1\n",
      "  warnings.warn(f\"A NumPy version >={np_minversion} and <{np_maxversion}\"\n"
     ]
    }
   ],
   "source": [
    "# Imports you might need\n",
    "from sklearn.model_selection import train_test_split\n",
    "from sklearn.metrics import accuracy_score\n",
    "from sklearn import preprocessing\n",
    "from sklearn.datasets import load_breast_cancer\n",
    "from sklearn.model_selection import KFold\n",
    "\n",
    "X, y = load_breast_cancer(return_X_y = True)\n"
   ]
  },
  {
   "cell_type": "code",
   "execution_count": 2,
   "metadata": {
    "scrolled": false
   },
   "outputs": [
    {
     "ename": "NameError",
     "evalue": "name 'make_classification' is not defined",
     "output_type": "error",
     "traceback": [
      "\u001b[1;31m---------------------------------------------------------------------------\u001b[0m",
      "\u001b[1;31mNameError\u001b[0m                                 Traceback (most recent call last)",
      "\u001b[1;32mc:\\Users\\asr\\Desktop\\ML\\MLB\\SVM.ipynb Cell 16\u001b[0m in \u001b[0;36m<cell line: 1>\u001b[1;34m()\u001b[0m\n\u001b[1;32m----> <a href='vscode-notebook-cell:/c%3A/Users/asr/Desktop/ML/MLB/SVM.ipynb#X21sZmlsZQ%3D%3D?line=0'>1</a>\u001b[0m X1, y1 \u001b[39m=\u001b[39m make_classification(n_samples\u001b[39m=\u001b[39m\u001b[39m50\u001b[39m, n_features\u001b[39m=\u001b[39m\u001b[39m1\u001b[39m, n_informative\u001b[39m=\u001b[39m\u001b[39m1\u001b[39m, n_redundant\u001b[39m=\u001b[39m\u001b[39m0\u001b[39m, n_clusters_per_class\u001b[39m=\u001b[39m\u001b[39m1\u001b[39m, class_sep\u001b[39m=\u001b[39m\u001b[39m2\u001b[39m, random_state\u001b[39m=\u001b[39m\u001b[39m1\u001b[39m)\n\u001b[0;32m      <a href='vscode-notebook-cell:/c%3A/Users/asr/Desktop/ML/MLB/SVM.ipynb#X21sZmlsZQ%3D%3D?line=1'>2</a>\u001b[0m plot_interactive_SVM1d(X1, y1)\n",
      "\u001b[1;31mNameError\u001b[0m: name 'make_classification' is not defined"
     ]
    }
   ],
   "source": [
    "X1, y1 = make_classification(n_samples=50, n_features=1, n_informative=1, n_redundant=0, n_clusters_per_class=1, class_sep=2, random_state=1)\n",
    "plot_interactive_SVM1d(X1, y1)"
   ]
  }
 ],
 "metadata": {
  "celltoolbar": "Raw Cell Format",
  "kernelspec": {
   "display_name": "base",
   "language": "python",
   "name": "python3"
  },
  "language_info": {
   "codemirror_mode": {
    "name": "ipython",
    "version": 3
   },
   "file_extension": ".py",
   "mimetype": "text/x-python",
   "name": "python",
   "nbconvert_exporter": "python",
   "pygments_lexer": "ipython3",
   "version": "3.9.13"
  },
  "vscode": {
   "interpreter": {
    "hash": "2aaaed62726fa93b23a998d174ead1f45903166052f00f97e926b61978a3bc16"
   }
  },
  "widgets": {
   "state": {
    "e83defe051a746dc87d7958beb9b5b5a": {
     "views": [
      {
       "cell_index": 4
      }
     ]
    }
   },
   "version": "1.2.0"
  }
 },
 "nbformat": 4,
 "nbformat_minor": 1
}
